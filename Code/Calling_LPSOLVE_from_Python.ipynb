{
 "cells": [
  {
   "cell_type": "markdown",
   "metadata": {},
   "source": [
    "<h2 style=\"color:blue;\">Introduction</h2> \n",
    "\n",
    "**LPSOLVE** is an excellent open source solver for mathematical programming problems. It can be used for linear (LP), integer (IP) and mixed integer linear (MILP) problems. It is distributed under the [GNU Lesser General Public License](https://en.wikipedia.org/wiki/GNU_Lesser_General_Public_License \"GNU Lesser General Public License\"). \n",
    "\n",
    "All documentation for LPSOLVE can be found [here](http://lpsolve.sourceforge.net/5.5/ \"LPSOLVE\"). This short tutorial shows how to use LPSOLVE from Python in Windows. It is also available as a Jupiter notebook [here](https://github.com/KSpiliop/LPSOLVE_in_Python/blob/master/Notebook/Calling%2BLPSOLVE%2Bfrom%2BPython.ipynb \"Notebook\") and as a Python file [here](https://github.com/KSpiliop/LPSOLVE_in_Python/blob/master/Code/Calling_LPSOLVE_from_Python.py \".py file\")\n",
    "\n",
    "<h2 style=\"color:blue;\">Installation of LPSOLVE in Windows</h2> \n",
    "\n",
    "There are several articles on running LPSOLVE from Python and even a package for it, [PyLPSolve](http://www.stat.washington.edu/~hoytak/code/pylpsolve/ \"PyLPSolve\"). But PyLPSolve cannot yet be installed on Windows. Personally, I had also problems with the instructions in [LPSOLVE pages](http://lpsolve.sourceforge.net/5.5/Python.htm \"Using lpsolve from Python\"). Some other unofficial distributions do not work with Windows 64-bit.  \n",
    "\n",
    "Probably a general solution is the one found in [this post](http://stackoverflow.com/questions/23411205/how-to-use-lpsolve-from-python-in-windows-64bit \"Post\").\n",
    "\n",
    "So, visit the page [http://www.lfd.uci.edu/~gohlke/pythonlibs/](http://www.lfd.uci.edu/~gohlke/pythonlibs/ \"Unofficial Windows Binaries for Python Extension Packages\") and find the appropriate Python wheel package under the heading:    \n",
    "\n",
    "> lp_solve, a Mixed Integer Linear Programming (MILP) solver.\n",
    "\n",
    "The .whl files differ by Python version and Windows architecture (32/64). For example, the package below is for Python 3.5 and Windows 64 bit:   \n",
    "\n",
    "> lpsolve55‑5.5.2.5‑cp35‑cp35m‑win_amd64.whl\n",
    "\n",
    "Locate the folder with the wheel file and follow the usual pip -install procedure. \n",
    "\n",
    "<h2 style=\"color:blue;\">The example problem: Warehouse location</h2> \n",
    "\n",
    "The data for the example are taken from this [ILOG CPLEX Optimization Studio](https://www.ibm.com/support/knowledgecenter/SSSA5P_12.6.2/ilog.odms.ide.help/OPL_Studio/opllanguser/topics/opl_languser_app_areas_IP_warehse.html \"ILOG CPLEX link\") link. \n",
    "\n",
    "In warehouse location problems we are looking for the optimal places of warehouses to serve outlets/ demand points.\n",
    "\n",
    "Suppose we have 5 potential locations for warehouses, **L1,L2,...,L5** and 10 demand points **D1,D2,...,D10**.\n",
    "\n",
    "The **fixed costs** for the operation of the warehouses are all equal to **30 monetary units**. The variable costs (for example transportation costs) for any assignment of demand points to locations are shown in the following table.</h1>     \n",
    "\n",
    "<p style=\"text-align: center;\">  \n",
    "Operating costs</p>\n",
    "\n",
    "|        | L1 | L2 | L3 | L4 | L5 |\n",
    "|:--:    |:--:|:--:|:--:|:--:|:--:|\n",
    "| **D1** | 20 | 24 | 11 | 25 | 30 |\n",
    "| **D2** | 28 | 27 | 82 | 83 | 74 |\n",
    "| **D3** | 74 | 97 | 71 | 96 | 70 |\n",
    "| **D4** | 2  | 55 | 73 | 69 | 61 |\n",
    "| **D5** | 46 | 96 | 59 | 83 | 4  |\n",
    "| **D6** | 42 | 22 | 29 | 67 | 59 |\n",
    "| **D7** | 1  | 5  | 73 | 59 | 56 |\n",
    "| **D8** | 10 | 73 | 13 | 43 | 96 |\n",
    "| **D9** | 93 | 35 | 63 | 85 | 46 |\n",
    "| **D10**| 47 | 65 | 55 | 71 | 95 |\n",
    "\n",
    "The locations are also subject to capacity constraints. The maximum number of demand points assigned to each location are shown below: \n",
    "\n",
    "<p style=\"text-align: center;\">  \n",
    "Capacity constraints</p>\n",
    "\n",
    "| L1 | L2 | L3 | L4 | L5 |\n",
    "|:--:|:--:|:--:|:--:|:--:|\n",
    "| 1  |  4 | 2  |  1 |  3 |\n",
    "\n",
    "The **mathematical programming formulation** is given below. cij , i=1,...,10 ; j=1,...,5 are the variable costs and  \n",
    "fj, j=1,...,5 are the capacities of the locations.\n",
    "\n",
    "- The wij binary variables denote the assignments of demand points to locations : wij=1 if demand point i is assigned to location j, otherwise 0. \n",
    "- The dj binary variables indicate the selected locations: dj=1 if location j is used, otherwise 0.\n",
    "- The objective function minimizes the total cost, i.e. the fixed and variable costs. \n",
    "- The first set of constraints ensures that each demand point is allocated to exactly one location.\n",
    "- The second set of constraints forces each location j to have at most fj demand points and also pushes the wij variables to zero when a location is not selected (note that in a larger problem we would use separate wij <= dj constraints for this).      \n",
    "\n",
    "<img style=\"float: left;\" src=\"https://cloud.githubusercontent.com/assets/12450688/24873799/ee2099c6-1e2a-11e7-980a-43c0090be6c1.jpg\" width=\"400\" height=\"300\" />\n",
    "\n"
   ]
  },
  {
   "cell_type": "markdown",
   "metadata": {},
   "source": [
    "First we import numpy and the LPSOLVE library. The library exposes only one wrapper function lpsolve() therefore we import 'all' to avoid writing lpsolve55.lpsolve() at each call. \n",
    "\n",
    "A complete list of the LPSOLVE API can be found in [LPSOLVE pages](http://lpsolve.sourceforge.net/5.5/ \"LPSOLVE\")."
   ]
  },
  {
   "cell_type": "code",
   "execution_count": 9,
   "metadata": {
    "collapsed": false
   },
   "outputs": [
    {
     "name": "stdout",
     "output_type": "stream",
     "text": [
      "Help on built-in function lpsolve in module lpsolve55:\n",
      "\n",
      "lpsolve(...)\n",
      "    lpsolve('functionname', arg1, arg2, ...) ->  execute lpsolve functionname with args\n",
      "\n"
     ]
    }
   ],
   "source": [
    "import numpy as np\n",
    "from lpsolve55 import *\n",
    "\n",
    "help(lpsolve)"
   ]
  },
  {
   "cell_type": "markdown",
   "metadata": {},
   "source": [
    "Then we define the data. We put the operating costs in a 2-dimensional  array **c** and the capacities in a 1-dimensional array **f**. We use floats because the coefficients must be passed as real numbers.\n",
    "\n",
    "We also put the (1-index) variable names in a list **col_names**. First are the wij variables (with the index j of the location running first) and then are the dj variables."
   ]
  },
  {
   "cell_type": "code",
   "execution_count": 10,
   "metadata": {
    "collapsed": false
   },
   "outputs": [],
   "source": [
    "\n",
    "\n",
    "c = np.array([[20,24,11,25,30],\n",
    "              [28,27,82,83,74],\n",
    "              [74,97,71,96,70],\n",
    "              [ 2,55,73,69,61],\n",
    "              [46,96,59,83,4],\n",
    "              [42,22,29,67,59],\n",
    "              [ 1, 5,73,59,56],\n",
    "              [10,73,13,43,96],\n",
    "              [93,35,63,85,46],\n",
    "              [47,65,55,71,95]],dtype=float)\n",
    "\n",
    "\n",
    "f = np.array([1,4,2,1,3],dtype=float)\n",
    "\n",
    "## i: demand point, j: location\n",
    "col_names = ['w'+str(i)+str(j) for i in range(1,11) for j in range(1,6)]\n",
    "col_names = col_names + ['d'+str(j) for j in range(1,6)]\n",
    "\n",
    "ncols = len(col_names) ## number of variables\n"
   ]
  },
  {
   "cell_type": "markdown",
   "metadata": {},
   "source": [
    "We can now initialize an LPSOLVE model with **ncols** number of variables and no constraints yet. The return value **lp** is a handle to the model and we will use it as an argument from now on.\n",
    "\n",
    "The internal 'set_verbose' function is used to set the details of the messages. 'IMPORTANT' is an internal constant meaning only warnings and errors will be reported. "
   ]
  },
  {
   "cell_type": "code",
   "execution_count": 11,
   "metadata": {
    "collapsed": true
   },
   "outputs": [],
   "source": [
    "lp = lpsolve('make_lp', 0, ncols)\n",
    "lpsolve('set_verbose', lp, 'IMPORTANT')"
   ]
  },
  {
   "cell_type": "markdown",
   "metadata": {},
   "source": [
    "Next, we put the variable names using the internal function set_col_name. Note that the indices of variables (columns) and constraints in LPSOLVE are 1-based. \n",
    "\n",
    "We define in a list the coefficients of the objective function ('set_obj_fn') and we set the direction of optimization to min (set_minim).\n"
   ]
  },
  {
   "cell_type": "code",
   "execution_count": 12,
   "metadata": {
    "collapsed": true
   },
   "outputs": [],
   "source": [
    "for i in range(ncols):\n",
    "    lpsolve('set_col_name', lp, i+1, col_names[i])\n",
    "\n",
    "obj_values = c.flatten(order='C').tolist()+[30.]*5\n",
    "\n",
    "lpsolve('set_obj_fn', lp, obj_values)\n",
    "lpsolve('set_minim', lp)"
   ]
  },
  {
   "cell_type": "markdown",
   "metadata": {},
   "source": [
    "We can now define the constraints one by one. First is the set of 10 constraints which ensures that each demand point is assigned to exactly one location. For each one, we pass to 'add_constraint' a list with the coefficients, the type of the constraint (here 'EQ' meaning equality) and the RHS. We also set the name of each constraint with 'set_row_name'."
   ]
  },
  {
   "cell_type": "code",
   "execution_count": 13,
   "metadata": {
    "collapsed": false
   },
   "outputs": [],
   "source": [
    "## sum(j:wij)=1 for all i\n",
    "for i in range(1,11):\n",
    "    const_names = ['w'+str(i)+str(j) for j in range(1,6)]\n",
    "    indices = [col_names.index(name) for name in const_names]\n",
    "    values = np.zeros(ncols) ; values[indices]=1.\n",
    "    lpsolve('add_constraint',lp, values, 'EQ', 1.0)\n",
    "    lpsolve('set_row_name',lp,i,'FIRST'+str(i))"
   ]
  },
  {
   "cell_type": "markdown",
   "metadata": {},
   "source": [
    "The second set of constraints is entered similarly. "
   ]
  },
  {
   "cell_type": "code",
   "execution_count": 14,
   "metadata": {
    "collapsed": false
   },
   "outputs": [],
   "source": [
    "## sum(i:wij) <= fjdj for all j\n",
    "for j in range(1,6):\n",
    "    const_names = ['w'+str(i)+str(j) for i in range(1,11)] \n",
    "    indices = [col_names.index(name) for name in const_names]    \n",
    "    values = np.zeros(ncols) ; values[indices]=1.\n",
    "    index = col_names.index('d'+str(j))\n",
    "    values[index] = -f[j-1]\n",
    "    lpsolve('add_constraint',lp, values, 'LE', 0.0)\n",
    "    lpsolve('set_row_name',lp,10+j,'SECOND'+str(j))"
   ]
  },
  {
   "cell_type": "markdown",
   "metadata": {},
   "source": [
    "The last step is to define all variables as binary using 'set_binary'. The last argument (1) in these calls is a True flag.\n",
    "\n",
    "We also export the model in a file, in LP format. This can be used for confirmation or read from the [LPSOLVE IDE](http://lpsolve.sourceforge.net/5.5/IDE.htm \"LPSOLVE IDE\"). LPSOLVE also allows the model export into MPS format.\n",
    "\n",
    "Finally, we call 'solve'. The return code is 0 (success). We can now retrieve the value of the objective function ('get_objective') and the values of the non-zero variables in the solution ('get_variables') using the first element returned. We do NOT dimension any variable to accept the variables as the lpsolve driver takes care of the dimensioning. The same applies for the call to 'get_constraints' to retrieve the LHS of the constraints at the optimal solution.  \n",
    "\n",
    "The optimal solution is to use L1,L2,L3 and L5 and assign:\n",
    "- D4 to L1\n",
    "- D2,D6,D7 and D9 to L2\n",
    "- D8 and D10 to L3\n",
    "- D1,D3,D5 and D8 to L5\n",
    "\n",
    "The capacities are satisfied exactly and the total cost is 383 monetary units."
   ]
  },
  {
   "cell_type": "code",
   "execution_count": 15,
   "metadata": {
    "collapsed": false
   },
   "outputs": [
    {
     "name": "stdout",
     "output_type": "stream",
     "text": [
      "return code:  0\n",
      "\n",
      "objective function value: 383.00\n",
      "\n",
      "non-zero variable values:\n",
      "\n",
      "w15  =   1.00\n",
      "w22  =   1.00\n",
      "w35  =   1.00\n",
      "w41  =   1.00\n",
      "w55  =   1.00\n",
      "w62  =   1.00\n",
      "w72  =   1.00\n",
      "w83  =   1.00\n",
      "w92  =   1.00\n",
      "w103 =   1.00\n",
      "d1   =   1.00\n",
      "d2   =   1.00\n",
      "d3   =   1.00\n",
      "d5   =   1.00\n",
      "\n",
      "constraints LHS:\n",
      "\n",
      "FIRST1   =   1.00\n",
      "FIRST2   =   1.00\n",
      "FIRST3   =   1.00\n",
      "FIRST4   =   1.00\n",
      "FIRST5   =   1.00\n",
      "FIRST6   =   1.00\n",
      "FIRST7   =   1.00\n",
      "FIRST8   =   1.00\n",
      "FIRST9   =   1.00\n",
      "FIRST10  =   1.00\n",
      "SECOND1  =   0.00\n",
      "SECOND2  =   0.00\n",
      "SECOND3  =   0.00\n",
      "SECOND4  =   0.00\n",
      "SECOND5  =   0.00\n"
     ]
    }
   ],
   "source": [
    "for j in range(ncols):\n",
    "    lpsolve('set_binary',lp,j+1,1) \n",
    "\n",
    "lpsolve('write_lp', lp, 'warehouse.lp')\n",
    "ret = lpsolve('solve', lp)   \n",
    "print('return code: {:2d}\\n'.format(ret))\n",
    "\n",
    "obj = lpsolve('get_objective', lp)\n",
    "print('objective function value: {:06.2f}\\n'.format(obj))\n",
    "\n",
    "vars = lpsolve('get_variables', lp)[0]\n",
    "print('non-zero variable values:\\n')\n",
    "for i in range(len(vars)):\n",
    "    if vars[i] > 1e-6:\n",
    "        print('{:4s} = {:6.2f}'.format(col_names[i],vars[i]))\n",
    "        \n",
    "cons = lpsolve('get_constraints', lp)[0]      \n",
    "print('\\nconstraints LHS:\\n')\n",
    "for i in range(len(cons)):\n",
    "    nm = lpsolve('get_row_name',lp,i+1)\n",
    "    print('{:8s} = {:6.2f}'.format(nm,cons[i]))\n",
    "\n"
   ]
  },
  {
   "cell_type": "markdown",
   "metadata": {},
   "source": [
    "Finally, we delete the model data structures. This is good practice. "
   ]
  },
  {
   "cell_type": "code",
   "execution_count": 16,
   "metadata": {
    "collapsed": true
   },
   "outputs": [],
   "source": [
    "lpsolve('delete_lp', lp)"
   ]
  },
  {
   "cell_type": "markdown",
   "metadata": {},
   "source": [
    "There is much functionality which is not shown in this brief tutorial, especially in the parameters of the solver. The interested reader can read the LPSOLVE API and experiment with it. "
   ]
  }
 ],
 "metadata": {
  "anaconda-cloud": {},
  "kernelspec": {
   "display_name": "Python [conda root]",
   "language": "python",
   "name": "conda-root-py"
  },
  "language_info": {
   "codemirror_mode": {
    "name": "ipython",
    "version": 3
   },
   "file_extension": ".py",
   "mimetype": "text/x-python",
   "name": "python",
   "nbconvert_exporter": "python",
   "pygments_lexer": "ipython3",
   "version": "3.5.2"
  }
 },
 "nbformat": 4,
 "nbformat_minor": 1
}
